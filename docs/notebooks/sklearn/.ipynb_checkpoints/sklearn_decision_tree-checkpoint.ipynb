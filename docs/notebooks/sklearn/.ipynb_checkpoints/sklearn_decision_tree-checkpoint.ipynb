{
 "cells": [
  {
   "cell_type": "markdown",
   "metadata": {},
   "source": [
    "# Example using scikit-learn: Impute missing data, model with DecisionTreeClassifier, report KPIs, plot confusion matrix, plot ROC and Precision Recall curves "
   ]
  },
  {
   "cell_type": "code",
   "execution_count": 1,
   "metadata": {
    "collapsed": true
   },
   "outputs": [],
   "source": [
    "# Confusion matrix on wikipedia: https://en.wikipedia.org/wiki/Confusion_matrix\n",
    "\n",
    "# Setup\n",
    "import os\n",
    "import matplotlib.pyplot as plt\n",
    "import pandas as pd\n",
    "import numpy as np\n",
    "import itertools\n",
    "from collections import OrderedDict\n",
    "from sklearn.tree import DecisionTreeClassifier\n",
    "from sklearn.metrics import confusion_matrix\n",
    "from sklearn import datasets\n",
    "from sklearn.model_selection import train_test_split\n",
    "from sklearn.metrics import classification_report\n",
    "from sklearn.metrics import precision_recall_curve\n",
    "from sklearn.metrics import roc_curve, auc\n",
    "from sklearn.preprocessing import Imputer\n",
    "from sklearn.preprocessing import label_binarize, LabelBinarizer\n",
    "    \n",
    "# Constants\n",
    "VARS = 4\n",
    "MISSING_FRAC = 0.2\n",
    "TEST_RATIO = 0.5\n",
    "TRAIN_RATIO = 1 - TEST_RATIO"
   ]
  },
  {
   "cell_type": "markdown",
   "metadata": {},
   "source": [
    "## Get the dataset and describe it"
   ]
  },
  {
   "cell_type": "code",
   "execution_count": 2,
   "metadata": {
    "collapsed": false
   },
   "outputs": [],
   "source": [
    "dat = datasets.load_breast_cancer()\n",
    "# print(dat.DESCR)"
   ]
  },
  {
   "cell_type": "markdown",
   "metadata": {},
   "source": [
    "## Use pandas to describe columns"
   ]
  },
  {
   "cell_type": "code",
   "execution_count": 3,
   "metadata": {
    "collapsed": false
   },
   "outputs": [
    {
     "name": "stdout",
     "output_type": "stream",
     "text": [
      "dataset keys:\n",
      "dict_keys(['target_names', 'DESCR', 'feature_names', 'data', 'target'])\n",
      "li_classes ['malignant', 'benign']\n",
      "li_target[:30] [0, 0, 0, 0, 0, 0, 0, 0, 0, 0, 0, 0, 0, 0, 0, 0, 0, 0, 0, 1, 1, 1, 0, 0, 0, 0, 0, 0, 0, 0]\n",
      "li_ftrs_reduced ['mean radius', 'mean texture', 'mean perimeter', 'mean area']\n",
      "\n",
      "describe dataframe:\n",
      "       mean radius  mean texture  mean perimeter    mean area\n",
      "count   569.000000    569.000000      569.000000   569.000000\n",
      "mean     14.127292     19.289649       91.969033   654.889104\n",
      "std       3.524049      4.301036       24.298981   351.914129\n",
      "min       6.981000      9.710000       43.790000   143.500000\n",
      "25%      11.700000     16.170000       75.170000   420.300000\n",
      "50%      13.370000     18.840000       86.240000   551.100000\n",
      "75%      15.780000     21.800000      104.100000   782.700000\n",
      "max      28.110000     39.280000      188.500000  2501.000000\n"
     ]
    }
   ],
   "source": [
    "print(\"dataset keys:\")\n",
    "print(dat.keys()) # dict_keys(['target_names', 'target', 'feature_names', 'data', 'DESCR'])\n",
    "\n",
    "li_classes = list(dat.target_names)\n",
    "li_target = list(dat.target)\n",
    "li_ftrs = list(dat.feature_names)\n",
    "li_ftrs_reduced = li_ftrs[:VARS]\n",
    "\n",
    "print(\"li_classes\", li_classes)\n",
    "print(\"li_target[:30]\", li_target[:30])\n",
    "print(\"li_ftrs_reduced\", li_ftrs_reduced)\n",
    "\n",
    "df_all = pd.DataFrame(dat.data[:,:VARS], columns=li_ftrs_reduced)\n",
    "print()\n",
    "print(\"describe dataframe:\")\n",
    "print(df_all.describe())"
   ]
  },
  {
   "cell_type": "markdown",
   "metadata": {},
   "source": [
    "## Usually some of the columns have missing values, simulate this"
   ]
  },
  {
   "cell_type": "code",
   "execution_count": 4,
   "metadata": {
    "collapsed": false,
    "scrolled": true
   },
   "outputs": [
    {
     "name": "stdout",
     "output_type": "stream",
     "text": [
      "   mean radius  mean texture  mean perimeter  mean area\n",
      "0        17.99         10.38          122.80     1001.0\n",
      "1          NaN           NaN             NaN        NaN\n",
      "2        19.69         21.25          130.00     1203.0\n",
      "3        11.42         20.38           77.58      386.1\n",
      "4        20.29         14.34          135.10     1297.0\n",
      "\n",
      "describe dataframe:\n",
      "       mean radius  mean texture  mean perimeter    mean area\n",
      "count   455.000000    455.000000      455.000000   455.000000\n",
      "mean     14.112499     19.152879       91.818286   653.819121\n",
      "std       3.535375      4.158963       24.313012   358.166179\n",
      "min       6.981000      9.710000       43.790000   143.500000\n",
      "25%            NaN           NaN             NaN          NaN\n",
      "50%            NaN           NaN             NaN          NaN\n",
      "75%            NaN           NaN             NaN          NaN\n",
      "max      28.110000     33.810000      188.500000  2501.000000\n"
     ]
    },
    {
     "name": "stderr",
     "output_type": "stream",
     "text": [
      "C:\\Users\\Gal\\Anaconda3\\lib\\site-packages\\numpy\\lib\\function_base.py:4274: RuntimeWarning: Invalid value encountered in percentile\n",
      "  interpolation=interpolation)\n"
     ]
    }
   ],
   "source": [
    "# Replace fraction of features values with np.nan\n",
    "df_samp = df_all.sample(frac=MISSING_FRAC, axis=0, random_state=0)\n",
    "for c in df_samp.columns:\n",
    "    df_all[c].iloc[df_samp.index] = np.nan\n",
    "\n",
    "print(df_all.head())\n",
    "print()\n",
    "print(\"describe dataframe:\")\n",
    "print(df_all.describe())"
   ]
  },
  {
   "cell_type": "markdown",
   "metadata": {},
   "source": [
    "## Impute median values for missing values"
   ]
  },
  {
   "cell_type": "code",
   "execution_count": 5,
   "metadata": {
    "collapsed": false
   },
   "outputs": [
    {
     "name": "stdout",
     "output_type": "stream",
     "text": [
      "   mean radius  mean texture  mean perimeter  mean area\n",
      "0        17.99         10.38          122.80     1001.0\n",
      "1        13.28         18.75           85.98      541.8\n",
      "2        19.69         21.25          130.00     1203.0\n",
      "3        11.42         20.38           77.58      386.1\n",
      "4        20.29         14.34          135.10     1297.0\n",
      "\n",
      "describe dataframe:\n",
      "       mean radius  mean texture  mean perimeter    mean area\n",
      "count   569.000000    569.000000      569.000000   569.000000\n",
      "mean     13.945707     19.072162       90.648576   631.375923\n",
      "std       3.178290      3.721753       21.862119   323.341892\n",
      "min       6.981000      9.710000       43.790000   143.500000\n",
      "25%      12.060000     16.850000       77.870000   446.200000\n",
      "50%      13.280000     18.750000       85.980000   541.800000\n",
      "75%      14.810000     20.780000       96.420000   678.100000\n",
      "max      28.110000     33.810000      188.500000  2501.000000\n"
     ]
    }
   ],
   "source": [
    "imp = Imputer(missing_values='NaN', strategy='median', axis=0, verbose=1)\n",
    "X_imp = imp.fit_transform(df_all) # note that this is a numpy array\n",
    "df_all = pd.DataFrame(X_imp, columns=df_all.columns) # converted back to a dataframe\n",
    "\n",
    "print(df_all.head())\n",
    "\n",
    "print()\n",
    "print(\"describe dataframe:\")\n",
    "print(df_all.describe())"
   ]
  },
  {
   "cell_type": "markdown",
   "metadata": {},
   "source": [
    "## Build the feature matrix (X) and the corresponding target vector (y) for the classifier"
   ]
  },
  {
   "cell_type": "code",
   "execution_count": 6,
   "metadata": {
    "collapsed": false
   },
   "outputs": [
    {
     "name": "stdout",
     "output_type": "stream",
     "text": [
      "X.shape (569, 4)\n",
      "len(y) 569\n"
     ]
    }
   ],
   "source": [
    "X = df_all[li_ftrs_reduced]\n",
    "y = li_target\n",
    "\n",
    "print(\"X.shape\", X.shape)\n",
    "print(\"len(y)\", len(y))"
   ]
  },
  {
   "cell_type": "markdown",
   "metadata": {},
   "source": [
    "## Split the train & test data"
   ]
  },
  {
   "cell_type": "code",
   "execution_count": 7,
   "metadata": {
    "collapsed": false
   },
   "outputs": [
    {
     "name": "stdout",
     "output_type": "stream",
     "text": [
      "MAX_TRAIN 284\n",
      "MAX_TEST 285\n",
      "X_train.shape (284, 4)\n",
      "y_train.shape 284\n",
      "X_test.shape (285, 4)\n",
      "y_test.shape 285\n"
     ]
    }
   ],
   "source": [
    "MAX_TRAIN = int(TRAIN_RATIO * len(y))\n",
    "MAX_TEST = int(len(y) - MAX_TRAIN)\n",
    "\n",
    "# Train and test using sequential split\n",
    "X_train, y_train = X[:MAX_TRAIN], y[:MAX_TRAIN]\n",
    "X_test, y_test = X[MAX_TRAIN:], y[MAX_TRAIN:]\n",
    "\n",
    "# Or train and test using random split\n",
    "# X_train, X_test, y_train, y_test = train_test_split(X, y, test_size=TEST_RATIO, random_state=0)\n",
    "\n",
    "# Print sizes\n",
    "print(\"MAX_TRAIN\", MAX_TRAIN)\n",
    "print(\"MAX_TEST\", MAX_TEST)\n",
    "\n",
    "print(\"X_train.shape\", X_train.shape)\n",
    "print(\"y_train.shape\", len(y_train))\n",
    "\n",
    "print(\"X_test.shape\", X_test.shape)\n",
    "print(\"y_test.shape\", len(y_test))"
   ]
  },
  {
   "cell_type": "markdown",
   "metadata": {},
   "source": [
    "## Fit the decision tree classifier with the training data"
   ]
  },
  {
   "cell_type": "code",
   "execution_count": 8,
   "metadata": {
    "collapsed": false
   },
   "outputs": [
    {
     "name": "stdout",
     "output_type": "stream",
     "text": [
      "   mean radius  mean texture  mean perimeter  mean area  target\n",
      "0        17.99         10.38          122.80     1001.0       0\n",
      "1        13.28         18.75           85.98      541.8       0\n",
      "2        19.69         21.25          130.00     1203.0       0\n",
      "3        11.42         20.38           77.58      386.1       0\n",
      "4        20.29         14.34          135.10     1297.0       0\n",
      "5        12.45         15.70           82.57      477.1       0\n",
      "6        18.25         19.98          119.60     1040.0       0\n",
      "7        13.71         20.83           90.20      577.9       0\n",
      "Column types:\n",
      "<class 'numpy.float64'>\n",
      "<class 'numpy.float64'>\n",
      "<class 'numpy.float64'>\n",
      "<class 'numpy.float64'>\n",
      "li_ftrs_reduced ['mean radius', 'mean texture', 'mean perimeter', 'mean area']\n",
      "clf.feature_importances_ [ 0.          0.13408371  0.24622074  0.61969555]\n"
     ]
    }
   ],
   "source": [
    "clf = DecisionTreeClassifier(random_state=0, max_depth=3, min_samples_leaf=3)\n",
    "pd_head = pd.DataFrame(X_train.iloc[:8,:])\n",
    "pd_head['target'] = pd.Series(y_train)\n",
    "print(pd_head.to_string())\n",
    "\n",
    "print(\"Column types:\")\n",
    "for v in X_train.columns:\n",
    "    print(type(X_train[v][0]))\n",
    "  \n",
    "# Fit on the training data\n",
    "clf.fit(X_train, y_train)\n",
    "\n",
    "print(\"li_ftrs_reduced\", li_ftrs_reduced)\n",
    "print(\"clf.feature_importances_\", clf.feature_importances_)\n"
   ]
  },
  {
   "cell_type": "markdown",
   "metadata": {},
   "source": [
    "## Print DecisionTree (to local folder)"
   ]
  },
  {
   "cell_type": "code",
   "execution_count": 18,
   "metadata": {
    "collapsed": false
   },
   "outputs": [
    {
     "name": "stdout",
     "output_type": "stream",
     "text": [
      "[ 0.    0.13  0.25  0.62]\n",
      "PDF written to out folder\n",
      "[ 0.    0.13  0.25  0.62]\n",
      "PDF written to out folder\n"
     ]
    }
   ],
   "source": [
    "from sklearn import tree\n",
    "import pydotplus\n",
    "\n",
    "for i,v in enumerate([\"model_tree_counts\", \"model_tree_proportions\"]):\n",
    "    print(clf.feature_importances_)\n",
    "\n",
    "    dot_data = tree.export_graphviz(clf, out_file=None, feature_names=X_train.columns, filled=True, proportion=bool(i))\n",
    "    graph = pydotplus.graph_from_dot_data(dot_data)\n",
    "\n",
    "    if not os.path.exists(\"out\"):\n",
    "        os.makedirs(\"out\")\n",
    "\n",
    "    graph.write_pdf(os.path.join(\"out\", v + \".pdf\"))\n",
    "    print(\"PDF written to out folder\")"
   ]
  },
  {
   "cell_type": "markdown",
   "metadata": {},
   "source": [
    "## Predict using the trained model"
   ]
  },
  {
   "cell_type": "code",
   "execution_count": 9,
   "metadata": {
    "collapsed": true
   },
   "outputs": [],
   "source": [
    "if 1:\n",
    "    # Predict with test data (this is what really counts)\n",
    "    y_pred = clf.predict(X_test)\n",
    "    \n",
    "    # Compare actual vs predicted counts\n",
    "    cnf_matrix = confusion_matrix(y_test, y_pred)\n",
    "else:\n",
    "    # Predict with training data \n",
    "    # - this is sometimes calculated for experimentation purposes, \n",
    "    # however it will result in unrealistically high scores due to overfitting!!!\n",
    "    y_pred = clf.predict(X_train)\n",
    "    \n",
    "    # Compare actual vs predicted counts\n",
    "    cnf_matrix = confusion_matrix(y_train, y_pred)\n",
    "\n",
    "np.set_printoptions(precision=2)"
   ]
  },
  {
   "cell_type": "markdown",
   "metadata": {},
   "source": [
    "## Plot confusion matrix function"
   ]
  },
  {
   "cell_type": "code",
   "execution_count": 10,
   "metadata": {
    "collapsed": true
   },
   "outputs": [],
   "source": [
    "def plot_confusion_matrix(cm, classes,\n",
    "                          normalize=False,\n",
    "                          title='Confusion matrix',\n",
    "                          cmap=plt.cm.Blues):\n",
    "    \"\"\"\n",
    "    This function prints and plots the confusion matrix.\n",
    "    Normalization can be applied by setting `normalize=True`.\n",
    "    \"\"\"\n",
    "    if normalize:\n",
    "        cm = cm.astype('float') / cm.sum(axis=1)[:, np.newaxis]\n",
    "        print(\"Normalized Confusion Matrix\")\n",
    "    else:\n",
    "        print('Confusion Matrix')\n",
    "\n",
    "    print(cm)\n",
    "\n",
    "    plt.imshow(cm, interpolation='nearest', cmap=cmap)\n",
    "    plt.title(title)\n",
    "    plt.colorbar()\n",
    "    tick_marks = np.arange(len(classes))\n",
    "    plt.xticks(tick_marks, classes, rotation=45)\n",
    "    plt.yticks(tick_marks, classes)\n",
    "\n",
    "    fmt = '.2f' if normalize else 'd'\n",
    "    thresh = cm.max() / 2.\n",
    "    for i, j in itertools.product(range(cm.shape[0]), range(cm.shape[1])):\n",
    "        plt.text(j, i, format(cm[i, j], fmt),\n",
    "                 horizontalalignment=\"center\",\n",
    "                 color=\"white\" if cm[i, j] > thresh else \"black\")\n",
    "\n",
    "    plt.tight_layout()\n",
    "    plt.ylabel('True label')\n",
    "    plt.xlabel('Predicted label')\n",
    "    \n",
    "    plt.show()"
   ]
  },
  {
   "cell_type": "markdown",
   "metadata": {},
   "source": [
    "## Get and plot the classifier results"
   ]
  },
  {
   "cell_type": "code",
   "execution_count": 11,
   "metadata": {
    "collapsed": false
   },
   "outputs": [
    {
     "name": "stdout",
     "output_type": "stream",
     "text": [
      "----------------------\n",
      "NOTE: tn = true neg, fp = false pos, fn = false neg, tp = true pos\n",
      "----------------------\n",
      "tn, fp, fn, tp: 65 2 71 147\n",
      "Confusion Matrix\n",
      "[[ 65   2]\n",
      " [ 71 147]]\n"
     ]
    },
    {
     "data": {
      "image/png": "[encoded data removed]",
      "text/plain": [
       "<matplotlib.figure.Figure at 0x1704dfdee10>"
      ]
     },
     "metadata": {},
     "output_type": "display_data"
    },
    {
     "name": "stdout",
     "output_type": "stream",
     "text": [
      "tn, fp, fn, tp: 65 2 71 147\n",
      "Normalized Confusion Matrix\n",
      "[[ 0.97  0.03]\n",
      " [ 0.33  0.67]]\n"
     ]
    },
    {
     "data": {
      "image/png": "[encoded data removed]",
      "text/plain": [
       "<matplotlib.figure.Figure at 0x1705014bd68>"
      ]
     },
     "metadata": {},
     "output_type": "display_data"
    }
   ],
   "source": [
    "print(\"----------------------\")\n",
    "print(\"NOTE: tn = true neg, fp = false pos, fn = false neg, tp = true pos\")\n",
    "print(\"----------------------\")\n",
    "tn, fp, fn, tp = cnf_matrix.ravel()\n",
    "\n",
    "# Plot non-normalized confusion matrix\n",
    "print(\"tn, fp, fn, tp:\", tn, fp, fn, tp)\n",
    "plot_confusion_matrix(cnf_matrix, classes=[0,1],\n",
    "                      title='Confusion Matrix')\n",
    "\n",
    "# Plot normalized confusion matrix\n",
    "print(\"tn, fp, fn, tp:\", tn, fp, fn, tp)\n",
    "plot_confusion_matrix(cnf_matrix, classes=[0,1], normalize=True,\n",
    "                      title='Normalized Confusion Matrix')"
   ]
  },
  {
   "cell_type": "markdown",
   "metadata": {},
   "source": [
    "## Report KPIs (Key Performance Indicators)"
   ]
  },
  {
   "cell_type": "code",
   "execution_count": 12,
   "metadata": {
    "collapsed": false
   },
   "outputs": [
    {
     "name": "stdout",
     "output_type": "stream",
     "text": [
      "----------------------\n",
      "KPIs\n",
      "----------------------\n",
      "tn, fp, fn, tp: 65 2 71 147\n",
      "pos count, neg count, total count, prevalence: 218 67 285 0.764912280702\n",
      "precision: 0.986577181208\n",
      "recall or sensitivity (tpr): 0.674311926606\n",
      "specificity (tnr): 0.970149253731\n",
      "miss rate: 1 - recall (fnr): 0.325688073394\n",
      "fall out: 1 - specificity (fpr): 0.0298507462687\n"
     ]
    }
   ],
   "source": [
    "print(\"----------------------\")\n",
    "print(\"KPIs\")\n",
    "print(\"----------------------\")\n",
    "print(\"tn, fp, fn, tp:\", tn, fp, fn, tp)\n",
    "\n",
    "p = tp + fn\n",
    "n = fp + tn\n",
    "total = p + n\n",
    "prevalence = p / total\n",
    "print(\"pos count, neg count, total count, prevalence:\", p, n, total, prevalence)\n",
    "\n",
    "precision = tp / (tp + fp)\n",
    "print(\"precision:\", precision)\n",
    "\n",
    "tpr = tp / p\n",
    "print(\"recall or sensitivity (tpr):\", tpr)\n",
    "\n",
    "tnr = tn / n\n",
    "print(\"specificity (tnr):\", tnr)\n",
    "\n",
    "fnr = fn / p\n",
    "print(\"miss rate: 1 - recall (fnr):\", fnr)\n",
    "\n",
    "fpr = fp / n\n",
    "print(\"fall out: 1 - specificity (fpr):\", fpr)\n"
   ]
  },
  {
   "cell_type": "markdown",
   "metadata": {},
   "source": [
    "## Compare to sklearn classification report"
   ]
  },
  {
   "cell_type": "code",
   "execution_count": 13,
   "metadata": {
    "collapsed": false
   },
   "outputs": [
    {
     "name": "stdout",
     "output_type": "stream",
     "text": [
      "             precision    recall  f1-score   support\n",
      "\n",
      "          0       0.48      0.97      0.64        67\n",
      "          1       0.99      0.67      0.80       218\n",
      "\n",
      "avg / total       0.87      0.74      0.76       285\n",
      "\n"
     ]
    }
   ],
   "source": [
    "print(classification_report(y_test, y_pred))"
   ]
  },
  {
   "cell_type": "markdown",
   "metadata": {},
   "source": [
    "## Plot ROC curve"
   ]
  },
  {
   "cell_type": "code",
   "execution_count": 14,
   "metadata": {
    "collapsed": false
   },
   "outputs": [
    {
     "name": "stdout",
     "output_type": "stream",
     "text": [
      "[[ 65   2]\n",
      " [ 71 147]]\n",
      "             precision    recall  f1-score   support\n",
      "\n",
      "          0       0.48      0.97      0.64        67\n",
      "          1       0.99      0.67      0.80       218\n",
      "\n",
      "avg / total       0.87      0.74      0.76       285\n",
      "\n",
      "(285, 2)\n",
      "(285, 2)\n"
     ]
    },
    {
     "data": {
      "image/png": "[encoded data removed]",
      "text/plain": [
       "<matplotlib.figure.Figure at 0x17050116c50>"
      ]
     },
     "metadata": {},
     "output_type": "display_data"
    }
   ],
   "source": [
    "# Predict the class and score for X_test\n",
    "y_pred = clf.predict(X_test)\n",
    "y_score = clf.predict_proba(X_test)\n",
    "\n",
    "# Print confusion matrix & classification report\n",
    "print(confusion_matrix(y_test, y_pred))\n",
    "print(classification_report(y_test, y_pred))\n",
    "\n",
    "# Binarize the output\n",
    "lb = LabelBinarizer()\n",
    "y_test_bin = lb.fit_transform(y_test)\n",
    "y_test_bin = np.hstack((1-y_test_bin, y_test_bin))\n",
    "#     y_test_bin = label_binarize(y_test, classes=[0, 1, 2])\n",
    "\n",
    "print(y_test_bin.shape)\n",
    "print(y_score.shape)\n",
    "\n",
    "# Compute ROC curve and ROC area for each class\n",
    "fpr = dict()\n",
    "tpr = dict()\n",
    "roc_auc = dict()\n",
    "for i in range(2):\n",
    "    fpr[i], tpr[i], _ = roc_curve(y_test_bin[:, i], y_score[:, i])\n",
    "    roc_auc[i] = auc(fpr[i], tpr[i])\n",
    "\n",
    "plt.figure()\n",
    "lw = 2\n",
    "plt.plot(fpr[1], tpr[1], color='darkorange', lw=lw, label='ROC curve (area = %0.4f)' % roc_auc[1])\n",
    "plt.plot([0, 1], [0, 1], color='navy', lw=lw, linestyle='--')\n",
    "plt.xlim([0.0, 1.0])\n",
    "plt.ylim([0.0, 1.05])\n",
    "plt.xlabel('False Positive Rate')\n",
    "plt.ylabel('True Positive Rate')\n",
    "plt.title('ROC Curve')\n",
    "plt.legend(loc=\"lower right\")\n",
    "plt.grid()\n",
    "plt.show()"
   ]
  },
  {
   "cell_type": "markdown",
   "metadata": {},
   "source": [
    "## Precision Recall Curve"
   ]
  },
  {
   "cell_type": "code",
   "execution_count": 15,
   "metadata": {
    "collapsed": false
   },
   "outputs": [
    {
     "name": "stdout",
     "output_type": "stream",
     "text": [
      "precision: [ 0.76  0.9   0.9   0.99  0.98  0.98  0.98  1.  ]\n",
      "recall: [ 1.    0.97  0.93  0.67  0.59  0.56  0.47  0.  ]\n"
     ]
    },
    {
     "data": {
      "image/png": "[encoded data removed]",
      "text/plain": [
       "<matplotlib.figure.Figure at 0x1704e090d30>"
      ]
     },
     "metadata": {},
     "output_type": "display_data"
    }
   ],
   "source": [
    "y_score_1 = [y[1] for y in y_score]  # transform two class list to one class\n",
    "\n",
    "precision, recall, _ = precision_recall_curve(y_test, y_score_1)\n",
    "print(\"precision:\", precision)\n",
    "print(\"recall:\", recall)\n",
    "\n",
    "plt.step(recall, precision, color='b', alpha=0.2, where='post')\n",
    "plt.fill_between(recall, precision, step='post', alpha=0.1, color='b')\n",
    "plt.xlabel('Recall')\n",
    "plt.ylabel('Precision')\n",
    "plt.ylim([0.0, 1.05])\n",
    "plt.xlim([0.0, 1.0])\n",
    "plt.title('2-class Precision-Recall curve')\n",
    "plt.grid()\n",
    "plt.show()"
   ]
  }
 ],
 "metadata": {
  "anaconda-cloud": {},
  "kernelspec": {
   "display_name": "Python [default]",
   "language": "python",
   "name": "python3"
  },
  "language_info": {
   "codemirror_mode": {
    "name": "ipython",
    "version": 3
   },
   "file_extension": ".py",
   "mimetype": "text/x-python",
   "name": "python",
   "nbconvert_exporter": "python",
   "pygments_lexer": "ipython3",
   "version": "3.5.2"
  }
 },
 "nbformat": 4,
 "nbformat_minor": 1
}
