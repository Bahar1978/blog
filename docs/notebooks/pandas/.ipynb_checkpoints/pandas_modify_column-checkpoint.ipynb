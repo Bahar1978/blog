{
 "cells": [
  {
   "cell_type": "markdown",
   "metadata": {},
   "source": [
    "# Examples in pandas for modifying a column in a dataframe"
   ]
  },
  {
   "cell_type": "code",
   "execution_count": 1,
   "metadata": {
    "collapsed": false
   },
   "outputs": [
    {
     "name": "stdout",
     "output_type": "stream",
     "text": [
      "Initial dataframe:\n",
      "  name  age\n",
      "0  Amy   55\n",
      "1  Bob   66\n"
     ]
    }
   ],
   "source": [
    "# Build sample data\n",
    "import pandas as pd\n",
    "COLS = ['name', 'age']\n",
    "dat = [['Amy', 55], ['Bob', 66]]\n",
    "df_orig = pd.DataFrame(dat, columns=COLS)\n",
    "\n",
    "# Copy the original dataframe\n",
    "df = df_orig.copy()\n",
    "\n",
    "print('Initial dataframe:')\n",
    "print(df)"
   ]
  },
  {
   "cell_type": "markdown",
   "metadata": {},
   "source": [
    "## Modify every row in an existing column"
   ]
  },
  {
   "cell_type": "code",
   "execution_count": 2,
   "metadata": {
    "collapsed": false
   },
   "outputs": [
    {
     "name": "stdout",
     "output_type": "stream",
     "text": [
      "    name  age\n",
      "0  Amy_1   55\n",
      "1  Bob_1   66\n"
     ]
    }
   ],
   "source": [
    "# Short version using lambda expression\n",
    "df['name'] = df_orig['name'].apply(lambda x: x + \"_1\") # apply to each element in the column df_orig['name]\n",
    "print(df)"
   ]
  },
  {
   "cell_type": "code",
   "execution_count": 3,
   "metadata": {
    "collapsed": false
   },
   "outputs": [
    {
     "name": "stdout",
     "output_type": "stream",
     "text": [
      "    name  age\n",
      "0  Amy_2   55\n",
      "1  Bob_2   66\n"
     ]
    }
   ],
   "source": [
    "# Long version calling a function\n",
    "def convert_name(x):\n",
    "   return x['name'] + \"_2\" # return a column with renamed elements\n",
    "\n",
    "df['name'] = df_orig.apply(convert_name, axis=1) # axis=1 specifies column-wise operation over entire df_orig\n",
    "# OR: df['name'] = df_orig.apply(lambda r: convert_name(r), axis=1)\n",
    "\n",
    "print(df)"
   ]
  },
  {
   "cell_type": "code",
   "execution_count": 4,
   "metadata": {
    "collapsed": false
   },
   "outputs": [
    {
     "name": "stdout",
     "output_type": "stream",
     "text": [
      "    name  age       name2    age2\n",
      "0  Amy_2   55  name_Amy_2  age_55\n",
      "1  Bob_2   66  name_Bob_2  age_66\n"
     ]
    }
   ],
   "source": [
    "# Convert column function, specify column name as a parameter to the apply function\n",
    "def add_prefix(x, col):\n",
    "    return \"%s_%s\" % (col, x[col])\n",
    "\n",
    "# Add feature: customers who paid off within the first few months and are therefore suspicious: months_from_issue_to_last_pymnt\n",
    "df['name2'] = df.apply(add_prefix, col='name', axis=1)\n",
    "df['age2'] = df.apply(add_prefix, col='age', axis=1)\n",
    "\n",
    "print(df)"
   ]
  }
 ],
 "metadata": {
  "anaconda-cloud": {},
  "kernelspec": {
   "display_name": "Python [default]",
   "language": "python",
   "name": "python3"
  },
  "language_info": {
   "codemirror_mode": {
    "name": "ipython",
    "version": 3
   },
   "file_extension": ".py",
   "mimetype": "text/x-python",
   "name": "python",
   "nbconvert_exporter": "python",
   "pygments_lexer": "ipython3",
   "version": "3.5.2"
  }
 },
 "nbformat": 4,
 "nbformat_minor": 1
}
