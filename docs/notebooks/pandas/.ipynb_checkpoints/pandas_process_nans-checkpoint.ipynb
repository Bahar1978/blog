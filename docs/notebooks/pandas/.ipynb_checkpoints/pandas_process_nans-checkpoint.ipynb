{
 "cells": [
  {
   "cell_type": "markdown",
   "metadata": {},
   "source": [
    "# Examples in pandas for processing missing data"
   ]
  },
  {
   "cell_type": "code",
   "execution_count": 1,
   "metadata": {
    "collapsed": false
   },
   "outputs": [
    {
     "name": "stdout",
     "output_type": "stream",
     "text": [
      "Initial dataframe\n",
      "    id   size  days\n",
      "0  000  small  18.0\n",
      "1  001    big   NaN\n",
      "2  002    mid   NaN\n",
      "3  003    big  27.0\n",
      "4  003    big  27.0\n",
      "5  004  small   NaN\n"
     ]
    }
   ],
   "source": [
    "# Build sample data\n",
    "import pandas as pd\n",
    "import numpy as np\n",
    "COLS = ['id', 'size', 'days']\n",
    "dat = [['000', 'small', 18], ['001', 'big', None], ['002', 'mid', None], ['003', 'big', 27], ['003', 'big', 27], ['004', 'small', None]]\n",
    "df1 = pd.DataFrame(dat, columns=COLS)\n",
    "\n",
    "print('Initial dataframe')\n",
    "print(df1)\n",
    "df = df1.copy()"
   ]
  },
  {
   "cell_type": "markdown",
   "metadata": {},
   "source": [
    "## Drop duplicates and print type info"
   ]
  },
  {
   "cell_type": "code",
   "execution_count": 2,
   "metadata": {
    "collapsed": false
   },
   "outputs": [
    {
     "name": "stdout",
     "output_type": "stream",
     "text": [
      "    id   size  days\n",
      "0  000  small  18.0\n",
      "1  001    big   NaN\n",
      "2  002    mid   NaN\n",
      "3  003    big  27.0\n",
      "5  004  small   NaN\n"
     ]
    }
   ],
   "source": [
    "# Drop duplicates\n",
    "df = df.drop_duplicates()\n",
    "print(df)\n"
   ]
  },
  {
   "cell_type": "code",
   "execution_count": 3,
   "metadata": {
    "collapsed": false
   },
   "outputs": [
    {
     "name": "stdout",
     "output_type": "stream",
     "text": [
      "Note that the number values are stored as np.nan types:\n",
      "type of name objects: <class 'str'>\n",
      "type of age objects: <class 'numpy.float64'>\n"
     ]
    }
   ],
   "source": [
    "print('Note that the number values are stored as np.nan types:')\n",
    "print('type of name objects:', type(df1['id'][0]))\n",
    "print('type of age objects:', type(df1['days'][0]))"
   ]
  },
  {
   "cell_type": "markdown",
   "metadata": {},
   "source": [
    "## Use isnull and notnull in pandas"
   ]
  },
  {
   "cell_type": "code",
   "execution_count": 4,
   "metadata": {
    "collapsed": false
   },
   "outputs": [
    {
     "name": "stdout",
     "output_type": "stream",
     "text": [
      "    id   size  days\n",
      "1  001    big   NaN\n",
      "2  002    mid   NaN\n",
      "5  004  small   NaN\n"
     ]
    }
   ],
   "source": [
    "# isnull: Leave any rows that contain any column with a null value\n",
    "filt = pd.isnull(df['days']) \n",
    "print(df[filt])"
   ]
  },
  {
   "cell_type": "code",
   "execution_count": 5,
   "metadata": {
    "collapsed": false
   },
   "outputs": [
    {
     "name": "stdout",
     "output_type": "stream",
     "text": [
      "    id   size  days\n",
      "0  000  small  18.0\n",
      "3  003    big  27.0\n"
     ]
    }
   ],
   "source": [
    "# notnull: Remove any rows that contain any column with a null value\n",
    "filt = pd.notnull(df['days']) \n",
    "print(df[filt])"
   ]
  },
  {
   "cell_type": "markdown",
   "metadata": {},
   "source": [
    "## Fill and Replace dataframe values"
   ]
  },
  {
   "cell_type": "code",
   "execution_count": 6,
   "metadata": {
    "collapsed": false
   },
   "outputs": [
    {
     "name": "stdout",
     "output_type": "stream",
     "text": [
      "Before:\n",
      "    id   size  days\n",
      "0  000  small  18.0\n",
      "1  001    big   NaN\n",
      "2  002    mid   NaN\n",
      "3  003    big  27.0\n",
      "5  004  small   NaN\n",
      "After:\n",
      "    id   size  days\n",
      "0  000  small  18.0\n",
      "1  001    big   NaN\n",
      "2  002    mid   NaN\n",
      "3  003    big  27.0\n",
      "5  004  small  18.0\n"
     ]
    }
   ],
   "source": [
    "# Fill empty values (NaN values) going forwards with the previous value from the same group\n",
    "print('Before:')\n",
    "print(df)\n",
    "df['days'] = df.groupby('size')['days'].ffill()\n",
    "print('After:')\n",
    "print(df)"
   ]
  },
  {
   "cell_type": "code",
   "execution_count": 7,
   "metadata": {
    "collapsed": false
   },
   "outputs": [
    {
     "name": "stdout",
     "output_type": "stream",
     "text": [
      "Before:\n",
      "    id   size  days\n",
      "0  000  small  18.0\n",
      "1  001    big   NaN\n",
      "2  002    mid   NaN\n",
      "3  003    big  27.0\n",
      "5  004  small  18.0\n",
      "After:\n",
      "    id   size  days\n",
      "0  000  small  18.0\n",
      "1  001    big  27.0\n",
      "2  002    mid   NaN\n",
      "3  003    big  27.0\n",
      "5  004  small  18.0\n"
     ]
    }
   ],
   "source": [
    "# Fill empty values (NaN values) going backwards with the next value from the same group\n",
    "print('Before:')\n",
    "print(df)\n",
    "df['days'] = df.groupby('size')['days'].bfill()\n",
    "print('After:')\n",
    "print(df)"
   ]
  },
  {
   "cell_type": "code",
   "execution_count": 8,
   "metadata": {
    "collapsed": false
   },
   "outputs": [
    {
     "name": "stdout",
     "output_type": "stream",
     "text": [
      "    id   size   days\n",
      "0  000  small   18.0\n",
      "1  001    big   27.0\n",
      "2  002    mid -999.0\n",
      "3  003    big   27.0\n",
      "5  004  small   18.0\n"
     ]
    }
   ],
   "source": [
    "# Relpace NaN values with special value\n",
    "df['days']=df['days'].fillna(-999)\n",
    "print(df)"
   ]
  },
  {
   "cell_type": "code",
   "execution_count": 9,
   "metadata": {
    "collapsed": false
   },
   "outputs": [
    {
     "name": "stdout",
     "output_type": "stream",
     "text": [
      "    id   size  days\n",
      "0  000  small  18.0\n",
      "1  001    big  27.0\n",
      "2  002    mid   NaN\n",
      "3  003    big  27.0\n",
      "5  004  small  18.0\n"
     ]
    }
   ],
   "source": [
    "# Replace special value with NaN value (inverse the above)\n",
    "df['days'] = df['days'].replace({-999: None})\n",
    "print(df)"
   ]
  }
 ],
 "metadata": {
  "anaconda-cloud": {},
  "kernelspec": {
   "display_name": "Python [default]",
   "language": "python",
   "name": "python3"
  },
  "language_info": {
   "codemirror_mode": {
    "name": "ipython",
    "version": 3
   },
   "file_extension": ".py",
   "mimetype": "text/x-python",
   "name": "python",
   "nbconvert_exporter": "python",
   "pygments_lexer": "ipython3",
   "version": "3.5.2"
  }
 },
 "nbformat": 4,
 "nbformat_minor": 1
}
