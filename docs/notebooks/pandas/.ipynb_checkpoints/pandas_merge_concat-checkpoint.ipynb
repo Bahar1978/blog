{
 "cells": [
  {
   "cell_type": "markdown",
   "metadata": {},
   "source": [
    "# Examples in pandas for merge and concat"
   ]
  },
  {
   "cell_type": "code",
   "execution_count": 1,
   "metadata": {
    "collapsed": false
   },
   "outputs": [],
   "source": [
    "# Setup\n",
    "import pandas as pd\n",
    "df1 = pd.DataFrame([[11,'red'],[12,'blue'],[13,'green']], columns=['id', 'color'])\n",
    "df2 = pd.DataFrame([[11,'red'],[12,'green'],[14,'yellow']], columns=['id', 'color'])"
   ]
  },
  {
   "cell_type": "markdown",
   "metadata": {},
   "source": [
    "## Merge"
   ]
  },
  {
   "cell_type": "code",
   "execution_count": 2,
   "metadata": {
    "collapsed": false
   },
   "outputs": [
    {
     "name": "stdout",
     "output_type": "stream",
     "text": [
      "df1:\n",
      "   id  color\n",
      "0  11    red\n",
      "1  12   blue\n",
      "2  13  green\n",
      "------------\n",
      "df2:\n",
      "   id   color\n",
      "0  11     red\n",
      "1  12   green\n",
      "2  14  yellow\n",
      "------------\n",
      "Merged using left outer join:\n",
      "   id color_x color_y\n",
      "0  11     red     red\n",
      "1  12    blue   green\n",
      "2  13   green     NaN\n"
     ]
    }
   ],
   "source": [
    "print(\"df1:\")\n",
    "print(df1)\n",
    "\n",
    "print(\"------------\")\n",
    "print(\"df2:\")\n",
    "print(df2)\n",
    "\n",
    "print(\"------------\")\n",
    "print(\"Merged using left outer join:\")\n",
    "df = pd.merge(df1, df2, on='id', how='left')\n",
    "print(df)"
   ]
  },
  {
   "cell_type": "code",
   "execution_count": 3,
   "metadata": {
    "collapsed": false
   },
   "outputs": [
    {
     "name": "stdout",
     "output_type": "stream",
     "text": [
      "Merged using full outer join:\n",
      "     id color_x color_y\n",
      "0  11.0     red     red\n",
      "1  12.0    blue   green\n",
      "2  13.0   green     NaN\n",
      "3  14.0     NaN  yellow\n"
     ]
    }
   ],
   "source": [
    "print(\"Merged using full outer join:\")\n",
    "df = pd.merge(df1, df2, on='id', how='outer')\n",
    "print(df)"
   ]
  },
  {
   "cell_type": "code",
   "execution_count": 4,
   "metadata": {
    "collapsed": false
   },
   "outputs": [
    {
     "name": "stdout",
     "output_type": "stream",
     "text": [
      "Merged using inner join:\n",
      "   id color_x color_y\n",
      "0  11     red     red\n",
      "1  12    blue   green\n"
     ]
    }
   ],
   "source": [
    "print(\"Merged using inner join:\")\n",
    "df = pd.merge(df1, df2, on='id', how='inner')\n",
    "print(df)"
   ]
  },
  {
   "cell_type": "code",
   "execution_count": 5,
   "metadata": {
    "collapsed": false
   },
   "outputs": [
    {
     "name": "stdout",
     "output_type": "stream",
     "text": [
      "df1:\n",
      "   id  color\n",
      "0  11    red\n",
      "1  12   blue\n",
      "2  13  green\n",
      "------------\n",
      "df3:\n",
      "   pid part\n",
      "0   11    A\n",
      "1   11    B\n",
      "2   12    C\n",
      "3   12    B\n",
      "4   13    C\n",
      "------------\n",
      "Merged using left outer join:\n",
      "   id  color part\n",
      "0  11    red    A\n",
      "1  11    red    B\n",
      "2  12   blue    C\n",
      "3  12   blue    B\n",
      "4  13  green    C\n",
      ">> This is the desired outcome for the common 'left outer join' operation (equivalent to Excel's vlookup)\n"
     ]
    }
   ],
   "source": [
    "# Left outer join operation using merge\n",
    "df3 = pd.DataFrame([[11,'A'],[11,'B'],[12,'C'],[12,'B'],[13,'C']], columns=['pid', 'part'])\n",
    "\n",
    "print(\"df1:\")\n",
    "print(df1)\n",
    "\n",
    "print(\"------------\")\n",
    "print(\"df3:\")\n",
    "print(df3)\n",
    "\n",
    "print(\"------------\")\n",
    "print(\"Merged using left outer join:\")\n",
    "df = pd.merge(df1, df3, left_on='id', right_on='pid', how='left') # if the names don't match, specify 'left_on' and 'right_on'\n",
    "df = df.drop('pid', axis=1) # drop the column 'pid' because it is identical to 'id'\n",
    "print(df)\n",
    "print(\">> This is the desired outcome for the common 'left outer join' operation (equivalent to Excel's vlookup)\")"
   ]
  },
  {
   "cell_type": "markdown",
   "metadata": {},
   "source": [
    "## Concatenate"
   ]
  },
  {
   "cell_type": "code",
   "execution_count": 6,
   "metadata": {
    "collapsed": false
   },
   "outputs": [
    {
     "name": "stdout",
     "output_type": "stream",
     "text": [
      "df1:\n",
      "   id  color\n",
      "0  11    red\n",
      "1  12   blue\n",
      "2  13  green\n",
      "------------\n",
      "df2:\n",
      "   id   color\n",
      "0  11     red\n",
      "1  12   green\n",
      "2  14  yellow\n",
      "------------\n",
      "Column-wise concat:\n",
      "   id  color  id   color\n",
      "0  11    red  11     red\n",
      "1  12   blue  12   green\n",
      "2  13  green  14  yellow\n",
      ">> Note the Nan values in the last 2 rows (df1 has 2 more rows of values than df2)\n"
     ]
    }
   ],
   "source": [
    "print(\"df1:\")\n",
    "print(df1)\n",
    "\n",
    "print(\"------------\")\n",
    "print(\"df2:\")\n",
    "print(df2)\n",
    "\n",
    "print(\"------------\")\n",
    "\n",
    "df = pd.concat([df1, df2], axis=1)\n",
    "print(\"Column-wise concat:\")\n",
    "print(df)\n",
    "print(\">> Note the Nan values in the last 2 rows (df1 has 2 more rows of values than df2)\")"
   ]
  },
  {
   "cell_type": "code",
   "execution_count": 7,
   "metadata": {
    "collapsed": false
   },
   "outputs": [
    {
     "name": "stdout",
     "output_type": "stream",
     "text": [
      "Row-wise concat:\n",
      "   id   color\n",
      "0  11     red\n",
      "1  12    blue\n",
      "2  13   green\n",
      "0  11     red\n",
      "1  12   green\n",
      "2  14  yellow\n",
      ">> Note that NaN values are added to fill out the dataframe\n",
      "------------\n",
      "Reindex the rows:\n",
      "   id   color\n",
      "0  11     red\n",
      "1  12    blue\n",
      "2  13   green\n",
      "3  11     red\n",
      "4  12   green\n",
      "5  14  yellow\n",
      ">> Note that index now runs in sequential order\n"
     ]
    }
   ],
   "source": [
    "print(\"Row-wise concat:\")\n",
    "df = pd.concat([df1, df2])\n",
    "print(df)\n",
    "print(\">> Note that NaN values are added to fill out the dataframe\")\n",
    "\n",
    "print(\"------------\")\n",
    "print(\"Reindex the rows:\")\n",
    "df = df.reset_index(drop=True)\n",
    "print(df)\n",
    "print(\">> Note that index now runs in sequential order\")"
   ]
  }
 ],
 "metadata": {
  "anaconda-cloud": {},
  "kernelspec": {
   "display_name": "Python [default]",
   "language": "python",
   "name": "python3"
  },
  "language_info": {
   "codemirror_mode": {
    "name": "ipython",
    "version": 3
   },
   "file_extension": ".py",
   "mimetype": "text/x-python",
   "name": "python",
   "nbconvert_exporter": "python",
   "pygments_lexer": "ipython3",
   "version": "3.5.2"
  }
 },
 "nbformat": 4,
 "nbformat_minor": 1
}
