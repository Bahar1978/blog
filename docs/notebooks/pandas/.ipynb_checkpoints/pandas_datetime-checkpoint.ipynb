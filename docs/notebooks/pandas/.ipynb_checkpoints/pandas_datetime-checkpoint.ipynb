{
 "cells": [
  {
   "cell_type": "markdown",
   "metadata": {},
   "source": [
    "# Examples in pandas for datetime processing"
   ]
  },
  {
   "cell_type": "code",
   "execution_count": 1,
   "metadata": {
    "collapsed": false
   },
   "outputs": [],
   "source": [
    "# Get data\n",
    "import pandas as pd\n",
    "\n",
    "dat = [ \n",
    "[\"2015-12-21 03:21\", 11],\n",
    "[\"a missing datetime\", -1],\n",
    "[\"another missing datetime\", -99],\n",
    "[\"2016-01-13 05:33\", 22],\n",
    "[\"2016-02-02 06:43\", 33],\n",
    "[\"2017-06-29 07:56\", 44]]\n",
    "\n",
    "df = pd.DataFrame(dat, columns=['datetime', 'val'])"
   ]
  },
  {
   "cell_type": "markdown",
   "metadata": {},
   "source": [
    "## Convert to datetime"
   ]
  },
  {
   "cell_type": "code",
   "execution_count": 2,
   "metadata": {
    "collapsed": false
   },
   "outputs": [
    {
     "name": "stdout",
     "output_type": "stream",
     "text": [
      "Add columns and parse data string to type: datetime\n",
      "             datetime  val   day  hour  minute\n",
      "0 2015-12-21 03:21:00   11  21.0   3.0    21.0\n",
      "1                 NaT   -1   NaN   NaN     NaN\n",
      "2                 NaT  -99   NaN   NaN     NaN\n",
      "3 2016-01-13 05:33:00   22  13.0   5.0    33.0\n",
      "4 2016-02-02 06:43:00   33   2.0   6.0    43.0\n",
      "5 2017-06-29 07:56:00   44  29.0   7.0    56.0\n"
     ]
    }
   ],
   "source": [
    "# Process date column:\n",
    "# Coerce errors i.e. convert unparseable data to NaT (Not a Time) \n",
    "# For faster parsing, always specify the date format if possible, see: http://strftime.org\n",
    "print('Add columns and parse data string to type: datetime')\n",
    "df['datetime'] = pd.to_datetime(df['datetime'], errors='coerce', format='%Y-%m-%d %H:%M') \n",
    "df['day'] = df['datetime'].apply(lambda x: x.day)\n",
    "df['hour'] = df['datetime'].apply(lambda x: x.hour)\n",
    "df['minute'] = df['datetime'].apply(lambda x: x.minute)\n",
    "print(df)"
   ]
  },
  {
   "cell_type": "markdown",
   "metadata": {},
   "source": [
    "## Remove NaT (Not a Time) rows"
   ]
  },
  {
   "cell_type": "code",
   "execution_count": 3,
   "metadata": {
    "collapsed": false
   },
   "outputs": [
    {
     "name": "stdout",
     "output_type": "stream",
     "text": [
      "Remove NaT rows:\n",
      "  datetime  val  day  hour  minute\n",
      "1      NaT   -1  NaN   NaN     NaN\n",
      "2      NaT  -99  NaN   NaN     NaN\n",
      "\n",
      "Remaining rows with valid datetime:\n",
      "             datetime  val   day  hour  minute\n",
      "0 2015-12-21 03:21:00   11  21.0   3.0    21.0\n",
      "3 2016-01-13 05:33:00   22  13.0   5.0    33.0\n",
      "4 2016-02-02 06:43:00   33   2.0   6.0    43.0\n",
      "5 2017-06-29 07:56:00   44  29.0   7.0    56.0\n"
     ]
    }
   ],
   "source": [
    "# Remove rows with missing datetime values:\n",
    "print(\"Remove NaT rows:\")\n",
    "print(df[df['datetime'].isnull()])\n",
    "print()\n",
    "print(\"Remaining rows with valid datetime:\")\n",
    "df = df[df['datetime'].notnull()]\n",
    "print(df)"
   ]
  },
  {
   "cell_type": "markdown",
   "metadata": {},
   "source": [
    "## Calculate days & months since first entry"
   ]
  },
  {
   "cell_type": "code",
   "execution_count": 4,
   "metadata": {
    "collapsed": false
   },
   "outputs": [
    {
     "name": "stdout",
     "output_type": "stream",
     "text": [
      "             datetime  val   day  hour  minute  days_diff  month_diff\n",
      "0 2015-12-21 03:21:00   11  21.0   3.0    21.0          0           0\n",
      "3 2016-01-13 05:33:00   22  13.0   5.0    33.0         23           1\n",
      "4 2016-02-02 06:43:00   33   2.0   6.0    43.0         43           2\n",
      "5 2017-06-29 07:56:00   44  29.0   7.0    56.0        556          18\n",
      ">> Note that the above use of 'to_period' results in the calculation of 'month_diff' based only on transitions between months, regardless of the day of the month e.g. 22 days are counted as a whole month because (simplistically) Jan 2016 comes one month after Dec 2015.\n"
     ]
    }
   ],
   "source": [
    "# Calculate number of days and months since first row entry \n",
    "df['days_diff'] = df['datetime'].apply(lambda x: x.to_period('D') - df['datetime'].iloc[0].to_period('D'))\n",
    "df['month_diff'] = df['datetime'].apply(lambda x: x.to_period('M') - df['datetime'].iloc[0].to_period('M'))\n",
    "print(df.to_string())\n",
    "print(\">> Note that the above use of 'to_period' results in the calculation of 'month_diff' based \\\n",
    "only on transitions between months, regardless of the day of the month e.g. 22 days are counted as \\\n",
    "a whole month because (simplistically) Jan 2016 comes one month after Dec 2015.\")"
   ]
  },
  {
   "cell_type": "markdown",
   "metadata": {},
   "source": [
    "## Add a time delta to a datetime object"
   ]
  },
  {
   "cell_type": "code",
   "execution_count": 5,
   "metadata": {
    "collapsed": false
   },
   "outputs": [
    {
     "name": "stdout",
     "output_type": "stream",
     "text": [
      "             datetime  val   day  hour  minute  days_diff  month_diff      date_after_30d\n",
      "0 2015-12-21 03:21:00   11  21.0   3.0    21.0          0           0 2016-01-20 03:21:00\n",
      "3 2016-01-13 05:33:00   22  13.0   5.0    33.0         23           1 2016-02-12 05:33:00\n",
      "4 2016-02-02 06:43:00   33   2.0   6.0    43.0         43           2 2016-03-03 06:43:00\n",
      "5 2017-06-29 07:56:00   44  29.0   7.0    56.0        556          18 2017-07-29 07:56:00\n"
     ]
    }
   ],
   "source": [
    "# Add d days to calculate a new datetime\n",
    "d = 30\n",
    "df['date_after_30d'] = df['datetime'].apply(lambda x: x + pd.Timedelta(d, unit='d'))\n",
    "print(df.to_string())"
   ]
  },
  {
   "cell_type": "markdown",
   "metadata": {},
   "source": [
    "## Convert Unix time "
   ]
  },
  {
   "cell_type": "code",
   "execution_count": 6,
   "metadata": {
    "collapsed": false
   },
   "outputs": [
    {
     "name": "stdout",
     "output_type": "stream",
     "text": [
      "2017-03-22 15:16:45.433502912\n"
     ]
    }
   ],
   "source": [
    "# The unix epoch is the number of seconds that have elapsed since January 1, 1970 (midnight UTC/GMT), not counting leap seconds)\n",
    "print(pd.to_datetime(1490195805433502912, unit='ns'))"
   ]
  }
 ],
 "metadata": {
  "anaconda-cloud": {},
  "kernelspec": {
   "display_name": "Python [default]",
   "language": "python",
   "name": "python3"
  },
  "language_info": {
   "codemirror_mode": {
    "name": "ipython",
    "version": 3
   },
   "file_extension": ".py",
   "mimetype": "text/x-python",
   "name": "python",
   "nbconvert_exporter": "python",
   "pygments_lexer": "ipython3",
   "version": "3.5.2"
  }
 },
 "nbformat": 4,
 "nbformat_minor": 1
}
