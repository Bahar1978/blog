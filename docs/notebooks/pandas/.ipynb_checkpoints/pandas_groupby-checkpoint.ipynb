{
 "cells": [
  {
   "cell_type": "markdown",
   "metadata": {},
   "source": [
    "# Examples in pandas using groupby methods"
   ]
  },
  {
   "cell_type": "code",
   "execution_count": 1,
   "metadata": {
    "collapsed": false
   },
   "outputs": [
    {
     "name": "stdout",
     "output_type": "stream",
     "text": [
      "Initial dataframe\n",
      "  id  votes\n",
      "0  A      4\n",
      "1  B      2\n",
      "2  B      3\n",
      "3  A      2\n",
      "4  A      9\n"
     ]
    }
   ],
   "source": [
    "# Build sample data\n",
    "import pandas as pd\n",
    "import numpy as np\n",
    "from collections import OrderedDict\n",
    "\n",
    "COLS = ['id', 'votes']\n",
    "dat = [['A', 4], ['B', 2], ['B', 3], ['A', 2], ['A', 9]]\n",
    "df1 = pd.DataFrame(dat, columns=COLS)\n",
    "\n",
    "print('Initial dataframe')\n",
    "print(df1.to_string())\n",
    "\n",
    "df = df1.copy()"
   ]
  },
  {
   "cell_type": "markdown",
   "metadata": {},
   "source": [
    "## Augment existing dataframe (same number of rows while adding columns)"
   ]
  },
  {
   "cell_type": "code",
   "execution_count": 2,
   "metadata": {
    "collapsed": false
   },
   "outputs": [
    {
     "name": "stdout",
     "output_type": "stream",
     "text": [
      "  id  votes  id_cumcount  prev  diff\n",
      "0  A      4            0   NaN   NaN\n",
      "1  B      2            0   NaN   NaN\n",
      "2  B      3            1   2.0   1.0\n",
      "3  A      2            1   4.0  -2.0\n",
      "4  A      9            2   2.0   7.0\n"
     ]
    }
   ],
   "source": [
    "# Add cumulative count\n",
    "df['id_cumcount'] = df.groupby('id').cumcount()\n",
    "\n",
    "# Find the previous value per group and calculate difference\n",
    "df['prev'] = df.groupby('id')['votes'].apply(lambda x: x.shift(1))\n",
    "df['prev'] = df['prev']\n",
    "\n",
    "def calc_diff(grp):\n",
    "    grp['diff'] = grp['votes'] - grp['prev']\n",
    "    return grp\n",
    "\n",
    "df['diff'] = df.groupby('id').apply(calc_diff)['diff']\n",
    "print(df)"
   ]
  },
  {
   "cell_type": "code",
   "execution_count": 3,
   "metadata": {
    "collapsed": false
   },
   "outputs": [
    {
     "name": "stdout",
     "output_type": "stream",
     "text": [
      "  id  votes  id_cumcount  prev  diff  grp_sum  grp_count  grp_median  grp_mean   grp_std  grp_std_score\n",
      "0  A      2            1   4.0  -2.0       15          3         4.0       5.0  3.605551      -0.832050\n",
      "1  A      4            0   NaN   NaN       15          3         4.0       5.0  3.605551      -0.277350\n",
      "2  A      9            2   2.0   7.0       15          3         4.0       5.0  3.605551       1.109400\n",
      "3  B      2            0   NaN   NaN        5          2         2.5       2.5  0.707107      -0.707107\n",
      "4  B      3            1   2.0   1.0        5          2         2.5       2.5  0.707107       0.707107\n"
     ]
    }
   ],
   "source": [
    "# Build stats for all rows in each group and assign to all rows\n",
    "for v in [\"sum\", \"count\", \"median\", \"mean\", \"std\"]:\n",
    "    df['grp_' + v] = df.groupby('id')['votes'].transform(v)\n",
    "\n",
    "df['grp_std_score'] = df.groupby('id')['votes'].transform(lambda x: (x - x.mean()) / x.std())\n",
    "\n",
    "# Sort by group and column values\n",
    "df = df.sort_values(['id', 'votes']).reset_index(drop=True)\n",
    "print(df.to_string())"
   ]
  },
  {
   "cell_type": "code",
   "execution_count": 4,
   "metadata": {
    "collapsed": false
   },
   "outputs": [
    {
     "name": "stdout",
     "output_type": "stream",
     "text": [
      "    votes  id_cumcount  prev  diff  grp_sum  grp_count  grp_median  grp_mean   grp_std  grp_std_score\n",
      "id                                                                                                   \n",
      "A       2            1   4.0  -2.0       15          3         4.0       5.0  3.605551      -0.832050\n",
      "B       2            0   2.0   1.0        5          2         2.5       2.5  0.707107      -0.707107\n"
     ]
    }
   ],
   "source": [
    "# Print the first value in each group\n",
    "print(df.groupby('id').first().to_string())"
   ]
  },
  {
   "cell_type": "code",
   "execution_count": 5,
   "metadata": {
    "collapsed": false
   },
   "outputs": [
    {
     "name": "stdout",
     "output_type": "stream",
     "text": [
      "    votes  id_cumcount  prev  diff  grp_sum  grp_count  grp_median  grp_mean   grp_std  grp_std_score\n",
      "id                                                                                                   \n",
      "A       9            2   2.0   7.0       15          3         4.0       5.0  3.605551       1.109400\n",
      "B       3            1   2.0   1.0        5          2         2.5       2.5  0.707107       0.707107\n"
     ]
    }
   ],
   "source": [
    "# Print the last value in each group\n",
    "print(df.groupby('id').last().to_string())"
   ]
  },
  {
   "cell_type": "code",
   "execution_count": 6,
   "metadata": {
    "collapsed": false
   },
   "outputs": [
    {
     "name": "stdout",
     "output_type": "stream",
     "text": [
      "  id  votes  prev  diff\n",
      "0  A      2   4.0  -2.0\n",
      "1  A      4   NaN   NaN\n",
      "2  A      9   2.0   7.0\n",
      "3  B      2   NaN   NaN\n",
      "4  B      3   2.0   1.0\n"
     ]
    }
   ],
   "source": [
    "# Get a subset of dataframe columns\n",
    "df = df[['id', 'votes', 'prev', 'diff']]\n",
    "print(df)"
   ]
  },
  {
   "cell_type": "code",
   "execution_count": 7,
   "metadata": {
    "collapsed": false
   },
   "outputs": [
    {
     "name": "stdout",
     "output_type": "stream",
     "text": [
      "Number of groups: 2\n",
      "DataFrame where group id is B:\n",
      "  id  votes  prev  diff\n",
      "3  B      2   NaN   NaN\n",
      "4  B      3   2.0   1.0\n"
     ]
    }
   ],
   "source": [
    "# Get rows that match a single group (group B)\n",
    "gb = df.groupby(['id'])\n",
    "print(\"Number of groups:\", len(df.groupby(['id'])))\n",
    "print(\"DataFrame where group id is B:\")\n",
    "print(gb.get_group('B'))"
   ]
  },
  {
   "cell_type": "code",
   "execution_count": 8,
   "metadata": {
    "collapsed": false
   },
   "outputs": [
    {
     "name": "stdout",
     "output_type": "stream",
     "text": [
      "  id  votes  prev  diff  last_diff\n",
      "0  A      2   4.0  -2.0        7.0\n",
      "1  A      4   NaN   NaN        7.0\n",
      "2  A      9   2.0   7.0        7.0\n",
      "3  B      2   NaN   NaN        1.0\n",
      "4  B      3   2.0   1.0        1.0\n"
     ]
    }
   ],
   "source": [
    "# Build new column with the last value of diff per group 'smeared' back to all rows in the group\n",
    "def calc_last_diff(grp):\n",
    "    grp['last_diff'] = grp.iloc[-1]['diff']\n",
    "    return grp\n",
    "\n",
    "df['last_diff'] = df.groupby('id').apply(calc_last_diff)['last_diff']\n",
    "print(df.to_string())"
   ]
  },
  {
   "cell_type": "code",
   "execution_count": 9,
   "metadata": {
    "collapsed": false
   },
   "outputs": [
    {
     "name": "stdout",
     "output_type": "stream",
     "text": [
      "  id  votes  prev  diff  last_diff is_last_diff\n",
      "0  A      2   4.0  -2.0        7.0        False\n",
      "1  A      4   NaN   NaN        7.0        False\n",
      "2  A      9   2.0   7.0        7.0         True\n",
      "3  B      2   NaN   NaN        1.0        False\n",
      "4  B      3   2.0   1.0        1.0         True\n"
     ]
    }
   ],
   "source": [
    "# Set series value based on each row within group\n",
    "def calc_is_last_diff(grp):\n",
    "    grp['is_last_diff'] = grp['diff'] == grp['last_diff']\n",
    "    # OR: grp['is_last_diff'] = grp.apply(lambda r:  r['diff'] == r['last_diff'], axis=1)    \n",
    "    return grp\n",
    "\n",
    "df['is_last_diff'] = df.groupby('id').apply(calc_is_last_diff)['is_last_diff']\n",
    "print(df.to_string())"
   ]
  },
  {
   "cell_type": "markdown",
   "metadata": {},
   "source": [
    "## Iterate over groups and then over rows within each group"
   ]
  },
  {
   "cell_type": "code",
   "execution_count": 10,
   "metadata": {
    "collapsed": false,
    "scrolled": true
   },
   "outputs": [
    {
     "name": "stdout",
     "output_type": "stream",
     "text": [
      "index: 0, group name: A\n",
      "row idx: 0, diff: -2.000\n",
      "row idx: 1, diff: nan\n",
      "row idx: 2, diff: 7.000\n",
      "\n",
      "index: 1, group name: B\n",
      "row idx: 3, diff: nan\n",
      "row idx: 4, diff: 1.000\n",
      "\n"
     ]
    }
   ],
   "source": [
    "igr = 0\n",
    "for name, gr in df.groupby('id'): \n",
    "    # Iterate within group\n",
    "    print(\"index: %d, group name: %s\" % (igr, name))\n",
    "    for i,x in gr.iterrows():\n",
    "        print(\"row idx: %d, diff: %.3f\" % (i, x['diff']))\n",
    "    \n",
    "    print()\n",
    "    igr += 1"
   ]
  },
  {
   "cell_type": "markdown",
   "metadata": {},
   "source": [
    "## Filter dataframe based on multiple column values"
   ]
  },
  {
   "cell_type": "code",
   "execution_count": 11,
   "metadata": {
    "collapsed": false
   },
   "outputs": [
    {
     "name": "stdout",
     "output_type": "stream",
     "text": [
      "     id  votes  prev  diff  last_diff is_last_diff\n",
      "id                                                \n",
      "A  2  A      9   2.0   7.0        7.0         True\n",
      "B  4  B      3   2.0   1.0        1.0         True\n",
      "  id  votes  prev  diff  last_diff is_last_diff\n",
      "2  A      9   2.0   7.0        7.0         True\n",
      "4  B      3   2.0   1.0        1.0         True\n"
     ]
    }
   ],
   "source": [
    "def remove_rows(df):\n",
    "    remaining_rows = df['diff'] == df['last_diff']\n",
    "    return df[remaining_rows]\n",
    "\n",
    "df_copy = df.copy()\n",
    "\n",
    "# with group_keys=True\n",
    "print(df.groupby(\"id\", group_keys=True).apply(remove_rows))\n",
    "\n",
    "# with group_keys=False\n",
    "df = df.groupby(\"id\", group_keys=False).apply(remove_rows)\n",
    "print(df)"
   ]
  },
  {
   "cell_type": "markdown",
   "metadata": {},
   "source": [
    "## Use pandas agg method to summarize a table"
   ]
  },
  {
   "cell_type": "code",
   "execution_count": 12,
   "metadata": {
    "collapsed": false
   },
   "outputs": [
    {
     "name": "stdout",
     "output_type": "stream",
     "text": [
      " 90.0    3\n",
      " 70.0    3\n",
      "NaN      2\n",
      " 80.0    2\n",
      "dtype: int64\n",
      "Original table:\n",
      "  ExamYear  Grade Tested  ID Passed\n",
      "0     2007   80.0    yes  x0    yes\n",
      "1     2007   90.0    yes  x1    yes\n",
      "2     2007   80.0    yes  x2    yes\n",
      "3     2008   70.0    yes  x3     no\n",
      "4     2008    NaN     no  x4     no\n",
      "5     2008   70.0    yes  x5     no\n",
      "6     2008   90.0    yes  x6    yes\n",
      "7     2009   90.0    yes  x7    yes\n",
      "8     2009   70.0    yes  x8     no\n",
      "9     2009    NaN     no  x9     no\n",
      "---------------\n",
      "Summary table:\n",
      "          Passed  Tested      Grade\n",
      "ExamYear                           \n",
      "2007           3       3  83.333333\n",
      "2008           1       3  76.666667\n",
      "2009           1       2  80.000000\n"
     ]
    }
   ],
   "source": [
    "# Aggregated group operation\n",
    "li_grades = [80,90,80,70,np.nan,70,90,90,70,np.nan]\n",
    "\n",
    "# Get values count for a list (first convert to Series and use dropna=False to get NaN counts)\n",
    "print(pd.Series(li_grades).value_counts(dropna=False))\n",
    "\n",
    "di1 = OrderedDict({'ID': [\"x%d\" % r for r in range(10)],\n",
    "                     'ExamYear':['2007','2007','2007','2008','2008','2008','2008','2009','2009','2009'],\n",
    "                     'Tested': ['yes','yes','yes','yes','no','yes','yes','yes','yes','no'],\n",
    "                     'Passed': ['yes' if x > 70 else 'no' for x in li_grades],\n",
    "                     'Grade': li_grades})\n",
    "\n",
    "di2 = OrderedDict({'Tested': lambda x: x.value_counts()['yes'],\n",
    "                     'Passed': lambda x: sum(x == 'yes'),\n",
    "                     'Grade': 'mean'})  # instead of:  lambda x : np.mean(x)\n",
    "\n",
    "df1 = pd.DataFrame(di1)\n",
    "df2 = df1.groupby('ExamYear').agg(di2)\n",
    "\n",
    "print(\"Original table:\")\n",
    "print(df1)\n",
    "\n",
    "print(\"---------------\")\n",
    "print(\"Summary table:\")\n",
    "print(df2)"
   ]
  }
 ],
 "metadata": {
  "anaconda-cloud": {},
  "kernelspec": {
   "display_name": "Python [default]",
   "language": "python",
   "name": "python3"
  },
  "language_info": {
   "codemirror_mode": {
    "name": "ipython",
    "version": 3
   },
   "file_extension": ".py",
   "mimetype": "text/x-python",
   "name": "python",
   "nbconvert_exporter": "python",
   "pygments_lexer": "ipython3",
   "version": "3.5.2"
  }
 },
 "nbformat": 4,
 "nbformat_minor": 1
}
