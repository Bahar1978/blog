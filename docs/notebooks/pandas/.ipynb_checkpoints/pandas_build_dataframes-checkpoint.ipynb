{
 "cells": [
  {
   "cell_type": "markdown",
   "metadata": {},
   "source": [
    "# Examples in pandas for building dataframes and basic info"
   ]
  },
  {
   "cell_type": "code",
   "execution_count": 1,
   "metadata": {
    "collapsed": true
   },
   "outputs": [],
   "source": [
    "# Setup\n",
    "import pandas as pd\n",
    "import os\n",
    "\n",
    "list_weight = [1,2,3,4,5]\n",
    "list_height = [6,7,8,9,10]"
   ]
  },
  {
   "cell_type": "markdown",
   "metadata": {},
   "source": [
    "## Build dataframe from list of lists using from_items"
   ]
  },
  {
   "cell_type": "code",
   "execution_count": 2,
   "metadata": {
    "collapsed": false
   },
   "outputs": [
    {
     "name": "stdout",
     "output_type": "stream",
     "text": [
      "  class  weight  height\n",
      "0     a      10     600\n",
      "1     b      20     700\n",
      "2     b      30     800\n",
      "3     a      40     900\n",
      "4     a      50    1000\n"
     ]
    }
   ],
   "source": [
    "list_all = []\n",
    "list_all.append([\"class\", ['a','b','b','a','a']])\n",
    "list_all.append([\"weight\", [10 * v for v in list_weight]])\n",
    "list_all.append([\"height\", [100 * v for v in list_height]])\n",
    "df = pd.DataFrame.from_items(list_all)\n",
    "df_all = df.copy()\n",
    "print(df.to_string())"
   ]
  },
  {
   "cell_type": "code",
   "execution_count": 3,
   "metadata": {
    "collapsed": false
   },
   "outputs": [
    {
     "name": "stdout",
     "output_type": "stream",
     "text": [
      "<class 'pandas.core.frame.DataFrame'>\n",
      "RangeIndex: 5 entries, 0 to 4\n",
      "Data columns (total 3 columns):\n",
      "class     5 non-null object\n",
      "weight    5 non-null int64\n",
      "height    5 non-null int64\n",
      "dtypes: int64(2), object(1)\n",
      "memory usage: 200.0+ bytes\n",
      "None\n"
     ]
    }
   ],
   "source": [
    "# Get more detailed info, including column types\n",
    "print(df.info())"
   ]
  },
  {
   "cell_type": "code",
   "execution_count": 4,
   "metadata": {
    "collapsed": false
   },
   "outputs": [
    {
     "name": "stdout",
     "output_type": "stream",
     "text": [
      "          weight       height\n",
      "count   5.000000     5.000000\n",
      "mean   30.000000   800.000000\n",
      "std    15.811388   158.113883\n",
      "min    10.000000   600.000000\n",
      "25%    20.000000   700.000000\n",
      "50%    30.000000   800.000000\n",
      "75%    40.000000   900.000000\n",
      "max    50.000000  1000.000000\n"
     ]
    }
   ],
   "source": [
    "# Get distribution summary\n",
    "print(df.describe())"
   ]
  },
  {
   "cell_type": "code",
   "execution_count": 5,
   "metadata": {
    "collapsed": false
   },
   "outputs": [
    {
     "name": "stdout",
     "output_type": "stream",
     "text": [
      "['class', 'weight', 'height']\n"
     ]
    }
   ],
   "source": [
    "# Convert to a list of columns\n",
    "print(list(df.columns))"
   ]
  },
  {
   "cell_type": "markdown",
   "metadata": {},
   "source": [
    "## Cumulative counts and sort by values"
   ]
  },
  {
   "cell_type": "code",
   "execution_count": 6,
   "metadata": {
    "collapsed": false
   },
   "outputs": [
    {
     "name": "stdout",
     "output_type": "stream",
     "text": [
      "  class  weight  height  class_cumcount\n",
      "0     a      10     600               0\n",
      "1     b      20     700               0\n",
      "2     b      30     800               1\n",
      "3     a      40     900               1\n",
      "4     a      50    1000               2\n"
     ]
    }
   ],
   "source": [
    "# Cumulative count of class column\n",
    "df['class_cumcount'] = df.groupby('class').cumcount()\n",
    "print(df)"
   ]
  },
  {
   "cell_type": "code",
   "execution_count": 7,
   "metadata": {
    "collapsed": false
   },
   "outputs": [
    {
     "name": "stdout",
     "output_type": "stream",
     "text": [
      "  class  weight  height  class_cumcount\n",
      "4     a      50    1000               2\n",
      "3     a      40     900               1\n",
      "0     a      10     600               0\n",
      "2     b      30     800               1\n",
      "1     b      20     700               0\n"
     ]
    }
   ],
   "source": [
    "# Sort by multiple values\n",
    "df = df.sort_values(by=['class','weight'], ascending=[True,False])\n",
    "print(df)"
   ]
  },
  {
   "cell_type": "markdown",
   "metadata": {},
   "source": [
    "## Do explicit type conversion"
   ]
  },
  {
   "cell_type": "code",
   "execution_count": 8,
   "metadata": {
    "collapsed": false
   },
   "outputs": [
    {
     "name": "stdout",
     "output_type": "stream",
     "text": [
      "Before:\n",
      "  class  weight  height  class_cumcount\n",
      "4     a      50    1000               2\n",
      "Type of item in height column:  <class 'numpy.int64'>\n",
      "------------\n",
      "After:\n",
      "  class  weight  height  class_cumcount\n",
      "4     a    50.0  1000.0               2\n",
      "Type of item in height column:  <class 'numpy.float64'>\n"
     ]
    }
   ],
   "source": [
    "print('Before:')\n",
    "print(df.head(1))\n",
    "print(\"Type of item in height column: \", type(df['height'].iloc[0]))\n",
    "\n",
    "for col in ['weight', 'height']:\n",
    "    df[col] = df[col].astype(float)\n",
    " \n",
    "print(\"------------\")\n",
    "print('After:')\n",
    "print(df.head(1))\n",
    "print(\"Type of item in height column: \", type(df['height'].iloc[0]))"
   ]
  },
  {
   "cell_type": "code",
   "execution_count": 9,
   "metadata": {
    "collapsed": false
   },
   "outputs": [
    {
     "name": "stdout",
     "output_type": "stream",
     "text": [
      "b    2\n",
      "a    3\n",
      "Name: class, dtype: int64\n"
     ]
    }
   ],
   "source": [
    "# Print sorted value counts by class groups\n",
    "df = df['class'].value_counts()\n",
    "print(df.sort_values(ascending=True))"
   ]
  },
  {
   "cell_type": "markdown",
   "metadata": {
    "collapsed": true
   },
   "source": [
    "## Build dataframe from list of group values and sort"
   ]
  },
  {
   "cell_type": "markdown",
   "metadata": {},
   "source": [
    "### Using a for loop:"
   ]
  },
  {
   "cell_type": "code",
   "execution_count": 10,
   "metadata": {
    "collapsed": false
   },
   "outputs": [
    {
     "name": "stdout",
     "output_type": "stream",
     "text": [
      "  class  weight  height\n",
      "0     a      10     600\n",
      "1     b      20     700\n",
      "2     b      30     800\n",
      "3     a      40     900\n",
      "4     a      50    1000\n",
      "\n",
      "  class     weight      height\n",
      "0     b  25.000000  750.000000\n",
      "1     a  33.333333  833.333333\n"
     ]
    }
   ],
   "source": [
    "list_grp = []\n",
    "for name, grp in df_all.groupby('class'):\n",
    "    weight_mean = grp['weight'].mean()\n",
    "    height_mean = grp['height'].mean() \n",
    "    r = [name, weight_mean, height_mean]\n",
    "    list_grp.append(r)\n",
    "    \n",
    "df = pd.DataFrame(list_grp, columns=['class', 'weight', 'height'])\n",
    "df = df.sort_values('height').reset_index(drop=True)\n",
    "print(df_all)\n",
    "print()\n",
    "print(df)"
   ]
  },
  {
   "cell_type": "markdown",
   "metadata": {},
   "source": [
    "### Using agg method:"
   ]
  },
  {
   "cell_type": "code",
   "execution_count": 29,
   "metadata": {
    "collapsed": false
   },
   "outputs": [
    {
     "name": "stdout",
     "output_type": "stream",
     "text": [
      "  class  weight  height\n",
      "0     a      10     600\n",
      "1     b      20     700\n",
      "2     b      30     800\n",
      "3     a      40     900\n",
      "4     a      50    1000\n",
      "\n",
      "          weight      height\n",
      "class                       \n",
      "a      33.333333  833.333333\n",
      "b      25.000000  750.000000\n"
     ]
    }
   ],
   "source": [
    "print(df_all)\n",
    "df = df_all.groupby('class').agg('mean')\n",
    "print()\n",
    "print(df)"
   ]
  },
  {
   "cell_type": "markdown",
   "metadata": {},
   "source": [
    "## Read & write dataframes using pickle"
   ]
  },
  {
   "cell_type": "code",
   "execution_count": 30,
   "metadata": {
    "collapsed": false
   },
   "outputs": [
    {
     "name": "stdout",
     "output_type": "stream",
     "text": [
      "Write dataframe as a pickle file:\n",
      "          weight      height\n",
      "class                       \n",
      "a      33.333333  833.333333\n",
      "b      25.000000  750.000000\n",
      "------------\n",
      "Read the pickle file and store as dataframe:\n",
      "          weight      height\n",
      "class                       \n",
      "a      33.333333  833.333333\n",
      "b      25.000000  750.000000\n"
     ]
    }
   ],
   "source": [
    "# If a test directory does not exist then create it\n",
    "if not os.path.exists('test'):\n",
    "    os.makedirs('test')\n",
    "\n",
    "print(\"Write dataframe as a pickle file:\")\n",
    "df.to_pickle(os.path.join('test', 'df_test.pkl'))\n",
    "print(df)\n",
    " \n",
    "print(\"------------\")\n",
    "print(\"Read the pickle file and store as dataframe:\")\n",
    "df2 = pd.read_pickle(os.path.join('test', \"df_test.pkl\"))\n",
    "print(df2)"
   ]
  },
  {
   "cell_type": "markdown",
   "metadata": {},
   "source": [
    "## Convert to categories for one-hot encoding"
   ]
  },
  {
   "cell_type": "code",
   "execution_count": 36,
   "metadata": {
    "collapsed": false
   },
   "outputs": [
    {
     "name": "stdout",
     "output_type": "stream",
     "text": [
      "   class_a  class_b\n",
      "0      1.0      0.0\n",
      "1      0.0      1.0\n",
      "2      0.0      1.0\n",
      "3      1.0      0.0\n",
      "4      1.0      0.0\n"
     ]
    }
   ],
   "source": [
    "# Do one-hot encoding\n",
    "df_1hot = pd.get_dummies(df_all['class'], prefix='class')\n",
    "print(df_1hot)"
   ]
  },
  {
   "cell_type": "code",
   "execution_count": 37,
   "metadata": {
    "collapsed": false
   },
   "outputs": [
    {
     "name": "stdout",
     "output_type": "stream",
     "text": [
      "   weight  height\n",
      "0      10     600\n",
      "1      20     700\n",
      "2      30     800\n",
      "3      40     900\n",
      "4      50    1000\n"
     ]
    }
   ],
   "source": [
    "# Now that the one-hot columns are built, drop the original category column\n",
    "df = df_all.drop('class', axis=1)\n",
    "print(df)"
   ]
  },
  {
   "cell_type": "code",
   "execution_count": 35,
   "metadata": {
    "collapsed": false
   },
   "outputs": [
    {
     "name": "stdout",
     "output_type": "stream",
     "text": [
      "   weight  height  class_a  class_b\n",
      "0      10     600      1.0      0.0\n",
      "1      20     700      0.0      1.0\n",
      "2      30     800      0.0      1.0\n",
      "3      40     900      1.0      0.0\n",
      "4      50    1000      1.0      0.0\n"
     ]
    }
   ],
   "source": [
    "# Join on index\n",
    "df = df.join(df_1hot, how='left')\n",
    "print(df)"
   ]
  }
 ],
 "metadata": {
  "anaconda-cloud": {},
  "kernelspec": {
   "display_name": "Python [default]",
   "language": "python",
   "name": "python3"
  },
  "language_info": {
   "codemirror_mode": {
    "name": "ipython",
    "version": 3
   },
   "file_extension": ".py",
   "mimetype": "text/x-python",
   "name": "python",
   "nbconvert_exporter": "python",
   "pygments_lexer": "ipython3",
   "version": "3.5.2"
  }
 },
 "nbformat": 4,
 "nbformat_minor": 1
}
