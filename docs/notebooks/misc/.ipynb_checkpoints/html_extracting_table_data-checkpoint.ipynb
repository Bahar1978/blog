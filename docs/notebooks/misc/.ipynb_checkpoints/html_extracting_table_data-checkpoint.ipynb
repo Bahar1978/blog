{
 "cells": [
  {
   "cell_type": "markdown",
   "metadata": {},
   "source": [
    "# Extracting table data from html"
   ]
  },
  {
   "cell_type": "code",
   "execution_count": 1,
   "metadata": {
    "collapsed": false
   },
   "outputs": [],
   "source": [
    "# Setup\n",
    "import pandas as pd\n",
    "import requests\n",
    "import json\n",
    "from bs4 import BeautifulSoup"
   ]
  },
  {
   "cell_type": "markdown",
   "metadata": {},
   "source": [
    "## Get the web page and convert to dataframe"
   ]
  },
  {
   "cell_type": "code",
   "execution_count": 2,
   "metadata": {
    "collapsed": false
   },
   "outputs": [
    {
     "name": "stdout",
     "output_type": "stream",
     "text": [
      "       0                1                         2                         3                            4                            5                          6\n",
      "0   Rank  Country or area  UN continental region[1]  UN statistical region[1]  Population (1 July 2016)[2]  Population (1 July 2017)[2]                     Change\n",
      "1      —            World                         —                         —                   7466964280                   7550262101  7000111555135228260♠+1.1%\n",
      "2      1         China[a]                      Asia              Eastern Asia                   1403500365                   1409517397  6999428716097982630♠+0.4%\n",
      "3      2            India                      Asia             Southern Asia                   1324171354                   1339180127  7000113344643460699♠+1.1%\n",
      "4      3    United States                  Americas          Northern America                    322179605                    324459463  6999707635730076710♠+0.7%\n",
      "5      4        Indonesia                      Asia        South-Eastern Asia                    261115456                    263991379  7000110139899186970♠+1.1%\n",
      "6      5           Brazil                  Americas             South America                    207652865                    209288278  6999787570641031120♠+0.8%\n",
      "7      6         Pakistan                      Asia             Southern Asia                    193203476                    197015955  7000197329731272540♠+2.0%\n",
      "8      7          Nigeria                    Africa            Western Africa                    185989640                    190886311  7000263276545940949♠+2.6%\n",
      "9      8       Bangladesh                      Asia             Southern Asia                    162951560                    164669751  7000105441825779390♠+1.1%\n",
      "10     9           Russia                    Europe            Eastern Europe                    143964513                    143989754   5000000000000000000♠0.0%\n"
     ]
    }
   ],
   "source": [
    "URL = \"https://en.wikipedia.org/wiki/List_of_countries_by_population_(United_Nations)\"\n",
    "res = requests.get(URL)\n",
    "soup = BeautifulSoup(res.content,'lxml')\n",
    "table = soup.find_all('table')[1] # note that the first table at index 0 is not relevant\n",
    "df = pd.read_html(str(table))[0]\n",
    "\n",
    "# Print top 10 countries by population\n",
    "print(df.head(11).to_string())"
   ]
  },
  {
   "cell_type": "markdown",
   "metadata": {},
   "source": [
    "## Convert to json string"
   ]
  },
  {
   "cell_type": "code",
   "execution_count": 3,
   "metadata": {
    "collapsed": false
   },
   "outputs": [
    {
     "name": "stdout",
     "output_type": "stream",
     "text": [
      "[{\"0\":\"Rank\",\"1\":\"Country or area\",\"2\":\"UN continental region[1]\",\"3\":\"UN statistical region[1]\",\"4\":\"Population (1 July 2016)[2]\",\"5\":\"Population (1 July 2017)[2]\",\"6\":\"Change\"},{\"0\":\"\\u2014\",\"1\":\"World\",\"2\":\"\\u2014\",\"3\":\"\\u2014\",\"4\":\"7466964280\",\"5\":\"7550262101\",\"6\":\"7000111555135228260\\u2660+1.1%\"},{\"0\":\"1\",\"1\":\"China[a]\",\"2\":\"Asia\",\"3\":\"Eastern Asia\",\"4\":\"1403500365\",\"5\":\"1409517397\",\"6\":\"6999428716097982630\\u2660+0.4%\"},{\"0\":\"2\",\"1\":\"India\",\"2\":\"Asia\",\"3\":\"Southern Asia\",\"4\":\"1324171354\",\"5\":\"1339180127\",\"6\":\"7000113344643460699\\u2660+1.1%\"},{\"0\":\"3\",\"1\":\"United States\",\"2\":\"Americas\",\"3\":\"Northern America\",\"4\":\"322179605\",\"5\":\"324459463\",\"6\":\"6999707635730076710\\u2660+0.7%\"},{\"0\":\"4\",\"1\":\"Indonesia\",\"2\":\"Asia\",\"3\":\"South-Eastern Asia\",\"4\":\"261115456\",\"5\":\"263991379\",\"6\":\"7000110139899186970\\u2660+1.1%\"},{\"0\":\"5\",\"1\":\"Brazil\",\"2\":\"Americas\",\"3\":\"South America\",\"4\":\"207652865\",\"5\":\"209288278\",\"6\":\"6999787570641031120\\u2660+0.8%\"},{\"0\":\"6\",\"1\":\"Pakistan\",\"2\":\"Asia\",\"3\":\"Southern Asia\",\"4\":\"193203476\",\"5\":\"197015955\",\"6\":\"7000197329731272540\\u2660+2.0%\"},{\"0\":\"7\",\"1\":\"Nigeria\",\"2\":\"Africa\",\"3\":\"Western Africa\",\"4\":\"185989640\",\"5\":\"190886311\",\"6\":\"7000263276545940949\\u2660+2.6%\"},{\"0\":\"8\",\"1\":\"Bangladesh\",\"2\":\"Asia\",\"3\":\"Southern Asia\",\"4\":\"162951560\",\"5\":\"164669751\",\"6\":\"7000105441825779390\\u2660+1.1%\"},{\"0\":\"9\",\"1\":\"Russia\",\"2\":\"Europe\",\"3\":\"Eastern Europe\",\"4\":\"143964513\",\"5\":\"143989754\",\"6\":\"5000000000000000000\\u26600.0%\"}]\n"
     ]
    }
   ],
   "source": [
    "str_json = (df.head(11).to_json(orient='records'))\n",
    "print(str_json)"
   ]
  },
  {
   "cell_type": "markdown",
   "metadata": {},
   "source": [
    "## Convert json to list of dictionaries"
   ]
  },
  {
   "cell_type": "code",
   "execution_count": 4,
   "metadata": {
    "collapsed": false
   },
   "outputs": [
    {
     "name": "stdout",
     "output_type": "stream",
     "text": [
      "0 {'6': 'Change', '3': 'UN statistical region[1]', '2': 'UN continental region[1]', '1': 'Country or area', '4': 'Population (1 July 2016)[2]', '5': 'Population (1 July 2017)[2]', '0': 'Rank'}\n",
      "1 {'6': '7000111555135228260♠+1.1%', '3': '—', '2': '—', '1': 'World', '4': '7466964280', '5': '7550262101', '0': '—'}\n",
      "2 {'6': '6999428716097982630♠+0.4%', '3': 'Eastern Asia', '2': 'Asia', '1': 'China[a]', '4': '1403500365', '5': '1409517397', '0': '1'}\n",
      "3 {'6': '7000113344643460699♠+1.1%', '3': 'Southern Asia', '2': 'Asia', '1': 'India', '4': '1324171354', '5': '1339180127', '0': '2'}\n",
      "4 {'6': '6999707635730076710♠+0.7%', '3': 'Northern America', '2': 'Americas', '1': 'United States', '4': '322179605', '5': '324459463', '0': '3'}\n",
      "5 {'6': '7000110139899186970♠+1.1%', '3': 'South-Eastern Asia', '2': 'Asia', '1': 'Indonesia', '4': '261115456', '5': '263991379', '0': '4'}\n",
      "6 {'6': '6999787570641031120♠+0.8%', '3': 'South America', '2': 'Americas', '1': 'Brazil', '4': '207652865', '5': '209288278', '0': '5'}\n",
      "7 {'6': '7000197329731272540♠+2.0%', '3': 'Southern Asia', '2': 'Asia', '1': 'Pakistan', '4': '193203476', '5': '197015955', '0': '6'}\n",
      "8 {'6': '7000263276545940949♠+2.6%', '3': 'Western Africa', '2': 'Africa', '1': 'Nigeria', '4': '185989640', '5': '190886311', '0': '7'}\n",
      "9 {'6': '7000105441825779390♠+1.1%', '3': 'Southern Asia', '2': 'Asia', '1': 'Bangladesh', '4': '162951560', '5': '164669751', '0': '8'}\n",
      "10 {'6': '5000000000000000000♠0.0%', '3': 'Eastern Europe', '2': 'Europe', '1': 'Russia', '4': '143964513', '5': '143989754', '0': '9'}\n"
     ]
    }
   ],
   "source": [
    "li_json = json.loads(str_json)\n",
    "for i,v in enumerate(li_json):\n",
    "    print(i,v)\n",
    "    if i >= 10:\n",
    "        break\n",
    "    "
   ]
  }
 ],
 "metadata": {
  "anaconda-cloud": {},
  "kernelspec": {
   "display_name": "Python [default]",
   "language": "python",
   "name": "python3"
  },
  "language_info": {
   "codemirror_mode": {
    "name": "ipython",
    "version": 3
   },
   "file_extension": ".py",
   "mimetype": "text/x-python",
   "name": "python",
   "nbconvert_exporter": "python",
   "pygments_lexer": "ipython3",
   "version": "3.5.2"
  }
 },
 "nbformat": 4,
 "nbformat_minor": 1
}
